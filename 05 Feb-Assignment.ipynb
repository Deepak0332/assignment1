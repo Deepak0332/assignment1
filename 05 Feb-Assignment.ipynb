{
 "cells": [
  {
   "cell_type": "markdown",
   "id": "f842c45f",
   "metadata": {},
   "source": [
    "## Q1. Explain Class and Object with respect to Object-Oriented Programming. Give a suitable example"
   ]
  },
  {
   "cell_type": "markdown",
   "id": "cbed533a-044d-4456-a3d1-652b9b1dab95",
   "metadata": {},
   "source": [
    "## Answer"
   ]
  },
  {
   "cell_type": "markdown",
   "id": "38c71eac",
   "metadata": {},
   "source": [
    "class is a blueprint or a template for creating objects, which defines the properties and behaviors of those objects. An object, on the other hand, is an instance of a class, created using the blueprint provided by the class. An object has its own set of properties and can perform its own set of behaviors, defined by its class.\n",
    "\n",
    "An objects is an instance of a class. Objects are created from class templates and store their own state, which is stored in attributes, and implement behavior, which is provided by methods. The state and behavior of an object can be manipulated through method calls."
   ]
  },
  {
   "cell_type": "code",
   "execution_count": 1,
   "id": "e33aaf38",
   "metadata": {},
   "outputs": [],
   "source": [
    "class Person:\n",
    "    def __init__(self, name, age, gender, occupation):\n",
    "        self.name = name\n",
    "        self.age = age\n",
    "        self.gender = gender\n",
    "        self.occupation = occupation\n",
    "    \n",
    "    def introduce(self):\n",
    "        print(f\"Hi, my name is {self.name}. I am {self.age} years old and I work as a {self.occupation}.\")\n",
    "    \n",
    "    def eat(self):\n",
    "        print(f\"{self.name} is eating.\")\n",
    "    \n",
    "    def sleep(self):\n",
    "        print(f\"{self.name} is sleeping.\")\n",
    "    \n",
    "    def work(self):\n",
    "        print(f\"{self.name} is working.\")"
   ]
  },
  {
   "cell_type": "code",
   "execution_count": 2,
   "id": "d016a684",
   "metadata": {},
   "outputs": [],
   "source": [
    "person1 = Person(\"Rahul\", 30, \"male\", \"Data Scientist\")\n"
   ]
  },
  {
   "cell_type": "code",
   "execution_count": 3,
   "id": "c4297efd",
   "metadata": {},
   "outputs": [
    {
     "name": "stdout",
     "output_type": "stream",
     "text": [
      "Hi, my name is Rahul. I am 30 years old and I work as a Data Scientist.\n",
      "Rahul is eating.\n",
      "Rahul is sleeping.\n",
      "Rahul is working.\n"
     ]
    }
   ],
   "source": [
    "person1.introduce()\n",
    "person1.eat()\n",
    "person1.sleep()\n",
    "person1.work()\n"
   ]
  },
  {
   "cell_type": "markdown",
   "id": "43ee91e3",
   "metadata": {},
   "source": [
    "## Q2. Name the four pillars of OOPs"
   ]
  },
  {
   "cell_type": "markdown",
   "id": "c3e3c4e9-0ef7-4cf1-8ecd-7f2515f3d67f",
   "metadata": {},
   "source": [
    "## Answer\n",
    "The four pillars of OOPS are: <br>\n",
    "**1.** Inheritance<br>\n",
    "**2.** Polymorphism<br>\n",
    "**3.** Encapsulation, and <br>\n",
    "**4.** Abstraction"
   ]
  },
  {
   "cell_type": "markdown",
   "id": "d65987a9",
   "metadata": {},
   "source": [
    "## Q3. Explain why the __init__() function is used. Give a suitable example"
   ]
  },
  {
   "cell_type": "markdown",
   "id": "9052e8fe",
   "metadata": {},
   "source": [
    "## Answer"
   ]
  },
  {
   "cell_type": "markdown",
   "id": "fd80a524",
   "metadata": {},
   "source": [
    "The __init__() function is a special method in Python that is called when an object of a class is created. It is used to initialize the attributes of an object. The self parameter refers to the object that is being created."
   ]
  },
  {
   "cell_type": "code",
   "execution_count": 4,
   "id": "aedf3813",
   "metadata": {},
   "outputs": [
    {
     "name": "stdout",
     "output_type": "stream",
     "text": [
      "Rahul\n",
      "36\n"
     ]
    }
   ],
   "source": [
    "class Person:\n",
    "  def __init__(self, name, age):\n",
    "    self.name = name\n",
    "    self.age = age\n",
    "\n",
    "p1 = Person(\"Rahul\", 36)\n",
    "\n",
    "print(p1.name)\n",
    "print(p1.age)"
   ]
  },
  {
   "cell_type": "markdown",
   "id": "f7a15e79",
   "metadata": {},
   "source": [
    "In this example, the __init__() method takes two parameters: self and name, and assigns the value of name to the name property of the object. Similarly, it assigns the value of age to the age property of the object."
   ]
  },
  {
   "cell_type": "markdown",
   "id": "d0c8130d",
   "metadata": {},
   "source": [
    "## Q4. Why self is used in OOPs?\n"
   ]
  },
  {
   "cell_type": "markdown",
   "id": "cf49ae62",
   "metadata": {},
   "source": [
    "## Answer"
   ]
  },
  {
   "cell_type": "markdown",
   "id": "3f8973a5",
   "metadata": {},
   "source": [
    "In object-oriented programming (OOP), self is used to refer to the instance of a class. It is a reference to the object that is being created. When you create an object of a class, Python automatically passes the instance as the first argument to any method defined in that class. By convention, this first argument is named self.\n",
    "\n",
    "The purpose of self is to allow you to access the attributes and methods of an object from within its own methods. It binds the attributes with the given arguments."
   ]
  },
  {
   "cell_type": "markdown",
   "id": "38b24906",
   "metadata": {},
   "source": [
    "## Q5. What is inheritance? Give an example for each type of inheritance."
   ]
  },
  {
   "cell_type": "markdown",
   "id": "a4307aaa",
   "metadata": {},
   "source": [
    "## Answer"
   ]
  },
  {
   "cell_type": "markdown",
   "id": "ac343f00",
   "metadata": {},
   "source": [
    "Inheritance is a fundamental concept in object-oriented programming, where a new class is created by inheriting or deriving some or all of the properties and behavior of an existing class. The existing class is called the base class or superclass, and the new class is called the derived class or subclass.\n",
    "\n",
    "There are five types of inheritance in python."
   ]
  },
  {
   "cell_type": "markdown",
   "id": "281e371a",
   "metadata": {},
   "source": [
    "### 1. Single Inheritence\n",
    "\n",
    "Single inheritance: A derived class inherits from a single base class."
   ]
  },
  {
   "cell_type": "code",
   "execution_count": 5,
   "id": "c7c8160c",
   "metadata": {},
   "outputs": [
    {
     "name": "stdout",
     "output_type": "stream",
     "text": [
      "Rahul singh\n"
     ]
    }
   ],
   "source": [
    "class Person:\n",
    "  def __init__(self, fname, lname):\n",
    "    self.firstname = fname\n",
    "    self.lastname = lname\n",
    "\n",
    "  def printname(self):\n",
    "    print(self.firstname, self.lastname)\n",
    "\n",
    "class Student(Person):\n",
    "  pass\n",
    "\n",
    "x = Student(\"Rahul\", \"singh\")\n",
    "x.printname()\n"
   ]
  },
  {
   "cell_type": "markdown",
   "id": "3cb4a1a3",
   "metadata": {},
   "source": [
    "### 2. Multiple Inheritance\n",
    "When a class can be derived from more than one base class this type of inheritance is called multiple inheritances. In multiple inheritances, all the features of the base classes are inherited into the derived class. "
   ]
  },
  {
   "cell_type": "code",
   "execution_count": 6,
   "id": "8a218b54",
   "metadata": {},
   "outputs": [
    {
     "name": "stdout",
     "output_type": "stream",
     "text": [
      "The teacher is teaching.\n",
      "The writer is writing.\n",
      "The author is editing.\n"
     ]
    }
   ],
   "source": [
    "class Teacher:\n",
    "    def teach(self):\n",
    "        print(\"The teacher is teaching.\")\n",
    "\n",
    "class Writer:\n",
    "    def write(self):\n",
    "        print(\"The writer is writing.\")\n",
    "\n",
    "class Author(Teacher, Writer):\n",
    "    def edit(self):\n",
    "        print(\"The author is editing.\")\n",
    "\n",
    "a = Author()\n",
    "a.teach()\n",
    "a.write() \n",
    "a.edit()\n"
   ]
  },
  {
   "cell_type": "markdown",
   "id": "84ba60a9",
   "metadata": {},
   "source": [
    "### 3. Multilevel Inheritance\n",
    "Multilevel inheritance: A derived class inherits from a base class and that base class itself inherits from another base class."
   ]
  },
  {
   "cell_type": "code",
   "execution_count": 7,
   "id": "0ff6b838",
   "metadata": {},
   "outputs": [
    {
     "name": "stdout",
     "output_type": "stream",
     "text": [
      "The vehicle is starting.\n",
      "The car is accelerating.\n",
      "The SUV is going off-road.\n"
     ]
    }
   ],
   "source": [
    "class Vehicle:\n",
    "    def start(self):\n",
    "        print(\"The vehicle is starting.\")\n",
    "\n",
    "    def stop(self):\n",
    "        print(\"The vehicle is stopping.\")\n",
    "\n",
    "class Car(Vehicle):\n",
    "    def accelerate(self):\n",
    "        print(\"The car is accelerating.\")\n",
    "\n",
    "class SUV(Car):\n",
    "    def offroad(self):\n",
    "        print(\"The SUV is going off-road.\")\n",
    "\n",
    "s = SUV()\n",
    "s.start()\n",
    "s.accelerate() \n",
    "s.offroad() "
   ]
  },
  {
   "cell_type": "markdown",
   "id": "8b51b314-378a-4789-9055-944c95ba263e",
   "metadata": {},
   "source": [
    "### 4. Hierarchical Inheritance\n",
    "Hierarchical inheritance: Multiple derived classes inherit from a single base class."
   ]
  },
  {
   "cell_type": "code",
   "execution_count": 8,
   "id": "f20e3731",
   "metadata": {},
   "outputs": [
    {
     "name": "stdout",
     "output_type": "stream",
     "text": [
      "The employee is working.\n",
      "The employee's salary is $1000.\n",
      "The manager's bonus is $500.\n",
      "The employee is working.\n",
      "The employee's salary is $1000.\n",
      "The clerk is working overtime.\n"
     ]
    }
   ],
   "source": [
    "class Employee:\n",
    "    def work(self):\n",
    "        print(\"The employee is working.\")\n",
    "\n",
    "    def getSalary(self):\n",
    "        print(\"The employee's salary is $1000.\")\n",
    "\n",
    "class Manager(Employee):\n",
    "    def getBonus(self):\n",
    "        print(\"The manager's bonus is $500.\")\n",
    "\n",
    "class Clerk(Employee):\n",
    "    def overtime(self):\n",
    "        print(\"The clerk is working overtime.\")\n",
    "\n",
    "\n",
    "m = Manager()\n",
    "m.work() \n",
    "m.getSalary() \n",
    "m.getBonus()\n",
    "\n",
    "c = Clerk()\n",
    "c.work()\n",
    "c.getSalary()\n",
    "c.overtime()\n"
   ]
  },
  {
   "cell_type": "markdown",
   "id": "096bc2bd-d87c-4f27-bf52-6db96075878a",
   "metadata": {},
   "source": [
    "### 5. Hybrid Inheritance\n",
    " Hybrid inheritance: A combination of multiple and multilevel inheritance."
   ]
  },
  {
   "cell_type": "code",
   "execution_count": 9,
   "id": "5aafced6",
   "metadata": {},
   "outputs": [
    {
     "name": "stdout",
     "output_type": "stream",
     "text": [
      "A class\n",
      "C class\n",
      "B class\n",
      "D class\n",
      "a b c\n"
     ]
    }
   ],
   "source": [
    "class A:\n",
    "    def __init__(self):\n",
    "        self.a = 'a'\n",
    "        print(\"A class\")\n",
    "\n",
    "class B(A):\n",
    "    def __init__(self):\n",
    "        self.b = 'b'\n",
    "        super().__init__()\n",
    "        print(\"B class\")\n",
    "\n",
    "class C(A):\n",
    "    def __init__(self):\n",
    "        self.c = 'c'\n",
    "        super().__init__()\n",
    "        print(\"C class\")\n",
    "\n",
    "class D(B, C):\n",
    "    def __init__(self):\n",
    "        super().__init__()\n",
    "        print(\"D class\")\n",
    "\n",
    "d = D()\n",
    "print(d.a, d.b, d.c)"
   ]
  }
 ],
 "metadata": {
  "kernelspec": {
   "display_name": "Python 3 (ipykernel)",
   "language": "python",
   "name": "python3"
  },
  "language_info": {
   "codemirror_mode": {
    "name": "ipython",
    "version": 3
   },
   "file_extension": ".py",
   "mimetype": "text/x-python",
   "name": "python",
   "nbconvert_exporter": "python",
   "pygments_lexer": "ipython3",
   "version": "3.10.9"
  }
 },
 "nbformat": 4,
 "nbformat_minor": 5
}
