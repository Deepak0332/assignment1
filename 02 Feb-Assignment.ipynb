{
 "cells": [
  {
   "cell_type": "markdown",
   "id": "743aefb4-f593-455f-be9b-7ca0c56bc35f",
   "metadata": {},
   "source": [
    "# Q1.  Explain with an example each when to use a for loop and a while loop"
   ]
  },
  {
   "cell_type": "markdown",
   "id": "1892816d",
   "metadata": {},
   "source": [
    "### Answer"
   ]
  },
  {
   "cell_type": "markdown",
   "id": "62d69322-7ca3-4859-b203-21243f9a00ed",
   "metadata": {},
   "source": [
    "A for loop is used in Python to iterate over a sequence (such as a list, tuple, dictionary, set, or string) and execute a block of code for each item in the sequence."
   ]
  },
  {
   "cell_type": "code",
   "execution_count": 1,
   "id": "d3c449c5-492b-40ed-9c9c-84f36395e5d1",
   "metadata": {},
   "outputs": [
    {
     "name": "stdout",
     "output_type": "stream",
     "text": [
      "Data science master\n",
      "c++\n",
      "java\n",
      "Full stack\n",
      "DSA\n"
     ]
    }
   ],
   "source": [
    "# using for loop\n",
    "Pwskills= ['Data science master', 'c++' , 'java', 'Full stack', 'DSA']\n",
    "\n",
    "for i in Pwskills:\n",
    "    print(i)"
   ]
  },
  {
   "cell_type": "markdown",
   "id": "5de95d84-6174-42cd-acc1-0565f79139e8",
   "metadata": {},
   "source": [
    "A while loop is used to repeat a certain block of code while a certain condition is met. The code inside the while loop will run as long as the condition is met."
   ]
  },
  {
   "cell_type": "code",
   "execution_count": 2,
   "id": "fe037e38-265f-4553-adb8-ad23b41d06c2",
   "metadata": {},
   "outputs": [
    {
     "name": "stdout",
     "output_type": "stream",
     "text": [
      "1\n",
      "2\n",
      "3\n",
      "4\n",
      "5\n",
      "6\n",
      "7\n",
      "8\n",
      "9\n"
     ]
    }
   ],
   "source": [
    "# using while loop\n",
    "i = 1\n",
    "while i < 10:\n",
    "  print(i)\n",
    "  i += 1"
   ]
  },
  {
   "cell_type": "markdown",
   "id": "a572cd4a-1f32-46a5-8aba-21ccadf1bd6e",
   "metadata": {
    "tags": []
   },
   "source": [
    "# Q2.  Write a python program to print the sum and product of the first 10 natural numbers using for and while loop."
   ]
  },
  {
   "cell_type": "markdown",
   "id": "7a733715-7abc-46d1-a311-3fb4e7dbd636",
   "metadata": {},
   "source": [
    "### Answer"
   ]
  },
  {
   "cell_type": "code",
   "execution_count": 3,
   "id": "c1cc1dec-5925-40e2-8ba6-a5d49cf60165",
   "metadata": {},
   "outputs": [
    {
     "name": "stdout",
     "output_type": "stream",
     "text": [
      "The sum of the first 10 natural numbers is:  55\n",
      "The product of the first 10 natural number is:  3628800\n"
     ]
    }
   ],
   "source": [
    "#using for loop \n",
    "\n",
    "sum1 = 0\n",
    "product = 1\n",
    "\n",
    "for i in range(1,11):\n",
    "    sum1 += i\n",
    "    product *= i\n",
    "print('The sum of the first 10 natural numbers is: ', sum1)\n",
    "print('The product of the first 10 natural number is: ', product)"
   ]
  },
  {
   "cell_type": "code",
   "execution_count": 4,
   "id": "683d11d2",
   "metadata": {},
   "outputs": [
    {
     "name": "stdout",
     "output_type": "stream",
     "text": [
      "The sum of the first 10 natural numbers is:  55\n",
      "The product of the first 10 natural number is:  3628800\n"
     ]
    }
   ],
   "source": [
    "# using while loop\n",
    "sum1 = 0\n",
    "product = 1\n",
    "num = 1\n",
    "\n",
    "while num <=10 :\n",
    "    sum1 += num\n",
    "    product *= num\n",
    "    num += 1\n",
    "    \n",
    "print('The sum of the first 10 natural numbers is: ', sum1)\n",
    "print('The product of the first 10 natural number is: ', product)"
   ]
  },
  {
   "cell_type": "markdown",
   "id": "0feb6fb0-0110-4498-aca8-c62b32238e0c",
   "metadata": {
    "tags": []
   },
   "source": [
    "# Q3. Create a python program to compute the electricity bill for a household.\n",
    "The per-unit charges in rupees are as follows: For the first 100 units, the user will be charged Rs. 4.5 per unit, for the next 100 units, the user will be charged Rs. 6 per unit, and for the next 100 units, the user will be charged Rs. 10 per unit, After 300 units and above the user will be charged Rs. 20 per unit.\n",
    "\n",
    "You are required to take the units of electricity consumed in a month from the user as input.\n",
    "\n",
    "Your program must pass this test case: when the unit of electricity consumed by the user in a month is 310, the total electricity bill should be 2250."
   ]
  },
  {
   "cell_type": "markdown",
   "id": "40289cef-b0c3-444c-b04a-38c97731a0ba",
   "metadata": {},
   "source": [
    "### Answer"
   ]
  },
  {
   "cell_type": "code",
   "execution_count": 5,
   "id": "92b7ec03-9a23-42af-89a8-c837e76e1439",
   "metadata": {},
   "outputs": [
    {
     "name": "stdout",
     "output_type": "stream",
     "text": [
      "Enter units consumed in a month: 310\n",
      " total_electricity_bill:  2250.0\n"
     ]
    }
   ],
   "source": [
    "compute_electricity_bill = int(input(\"Enter units consumed in a month: \"))\n",
    "\n",
    "total_electricity_bill  = 0\n",
    "\n",
    "if compute_electricity_bill <= 100:\n",
    "    total_electricity_bill  = total_electricity_bill + (compute_electricity_bill*4.5)\n",
    "    \n",
    "elif compute_electricity_bill <= 200:\n",
    "   total_electricity_bill = 100*4.5 + (compute_electricity_bill-100)*6\n",
    "    \n",
    "elif compute_electricity_bill <=300:\n",
    "    total_electricity_bill = 100*4.5 + 100*6 + (compute_electricity_bill-200)*10\n",
    "    \n",
    "else:\n",
    "    total_electricity_bill = 100*4.5 + 100*6 + 100*10 + (compute_electricity_bill - 300)*20\n",
    "    \n",
    "print(' total_electricity_bill: ', total_electricity_bill)"
   ]
  },
  {
   "cell_type": "markdown",
   "id": "318e5736-9ec4-4815-8d0a-a832b05f1128",
   "metadata": {},
   "source": [
    "# Q4. Create a list of numbers from 1 to 100. Use for loop and while loop to calculate the cube of each number and if the cube of that number is divisible by 4 or 5 then append that number in a list and print that list."
   ]
  },
  {
   "cell_type": "markdown",
   "id": "e71d5384-5af9-4504-bc85-0b63008aa140",
   "metadata": {},
   "source": [
    "## Answer"
   ]
  },
  {
   "cell_type": "code",
   "execution_count": 6,
   "id": "656aa158-674c-42f7-96f4-063052015bb8",
   "metadata": {},
   "outputs": [
    {
     "name": "stdout",
     "output_type": "stream",
     "text": [
      "[8, 64, 125, 216, 512, 1000, 1728, 2744, 3375, 4096, 5832, 8000, 10648, 13824, 15625, 17576, 21952, 27000, 32768, 39304, 42875, 46656, 54872, 64000, 74088, 85184, 91125, 97336, 110592, 125000, 140608, 157464, 166375, 175616, 195112, 216000, 238328, 262144, 274625, 287496, 314432, 343000, 373248, 405224, 421875, 438976, 474552, 512000, 551368, 592704, 614125, 636056, 681472, 729000, 778688, 830584, 857375, 884736, 941192, 1000000]\n"
     ]
    }
   ],
   "source": [
    "# using for loop\n",
    "list1 = list(range(1,101))\n",
    "list2 = []\n",
    "for num in list1:\n",
    "    cube = num**3\n",
    "    if cube % 4 == 0 or cube % 5 == 0:\n",
    "        list2.append(cube)\n",
    "        \n",
    "print(list2)"
   ]
  },
  {
   "cell_type": "code",
   "execution_count": 7,
   "id": "0b370028-c9d9-4df8-ad22-5c1ae91ac841",
   "metadata": {},
   "outputs": [
    {
     "name": "stdout",
     "output_type": "stream",
     "text": [
      "[8, 64, 125, 216, 512, 1000, 1728, 2744, 3375, 4096, 5832, 8000, 10648, 13824, 15625, 17576, 21952, 27000, 32768, 39304, 42875, 46656, 54872, 64000, 74088, 85184, 91125, 97336, 110592, 125000, 140608, 157464, 166375, 175616, 195112, 216000, 238328, 262144, 274625, 287496, 314432, 343000, 373248, 405224, 421875, 438976, 474552, 512000, 551368, 592704, 614125, 636056, 681472, 729000, 778688, 830584, 857375, 884736, 941192, 1000000]\n"
     ]
    }
   ],
   "source": [
    "#using while loop\n",
    "\n",
    "my_list = list(range(1,101))\n",
    "my_new_list = []\n",
    "i = 0\n",
    "while i < 100:\n",
    "    cube = my_list[i]**3\n",
    "    if cube % 4 == 0 or cube % 5 == 0:\n",
    "        my_new_list.append(cube)\n",
    "    i += 1\n",
    "print(my_new_list)\n",
    "               "
   ]
  },
  {
   "cell_type": "markdown",
   "id": "64205d1d-8a6c-4bb4-a474-0b90c42f87a9",
   "metadata": {},
   "source": [
    "# Q5.  Write a program to filter count vowels in the below-given string.\n",
    "\n",
    "string = \"I want to become a data scientist\""
   ]
  },
  {
   "cell_type": "markdown",
   "id": "c140f4c6",
   "metadata": {},
   "source": [
    "## Answer"
   ]
  },
  {
   "cell_type": "code",
   "execution_count": 8,
   "id": "28b62944-e8d0-4923-b857-29a00b6a5cea",
   "metadata": {},
   "outputs": [
    {
     "name": "stdout",
     "output_type": "stream",
     "text": [
      "11\n"
     ]
    }
   ],
   "source": [
    "string = \"I want to become a data scientist\"\n",
    "count = 0\n",
    "for i in string:\n",
    "    if i in [\"a\",\"e\",\"i\",\"o\",\"u\"]:\n",
    "        count += 1\n",
    "print(count)\n",
    "    "
   ]
  },
  {
   "cell_type": "code",
   "execution_count": null,
   "id": "cad614c1",
   "metadata": {},
   "outputs": [],
   "source": []
  }
 ],
 "metadata": {
  "kernelspec": {
   "display_name": "Python 3 (ipykernel)",
   "language": "python",
   "name": "python3"
  },
  "language_info": {
   "codemirror_mode": {
    "name": "ipython",
    "version": 3
   },
   "file_extension": ".py",
   "mimetype": "text/x-python",
   "name": "python",
   "nbconvert_exporter": "python",
   "pygments_lexer": "ipython3",
   "version": "3.9.13"
  }
 },
 "nbformat": 4,
 "nbformat_minor": 5
}
