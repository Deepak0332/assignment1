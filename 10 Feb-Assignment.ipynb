{
 "cells": [
  {
   "cell_type": "markdown",
   "id": "f2f41c91-6d81-4245-9ae5-e302b61da0b5",
   "metadata": {},
   "source": [
    "## Q1. Which function is used to open a file? What are the different modes of opening a file? Explain each mode of file opening."
   ]
  },
  {
   "cell_type": "markdown",
   "id": "a237fb35-ae48-4270-a3fc-139ad47616b1",
   "metadata": {},
   "source": [
    "## Answer:\n",
    "The function used to open a file in Python is open().\n",
    "\n",
    "The different modes of opening a file are:\n",
    "\n",
    "1. \"r\" (read mode): This mode is used to read the contents of a file. If the file does not exist, an error will be raised.\n",
    "\n",
    "2. \"w\" (write mode): This mode is used to write data into a file. If the file already exists, it will be overwritten. If the file does not exist, a new file will be created.\n",
    "\n",
    "3. \"a\" (append mode): This mode is used to add data to the end of a file. If the file does not exist, a new file will be created.\n",
    "\n",
    "4. \"x\" (exclusive creation mode): This mode is used to create a new file. If the file already exists, an error will be raised.\n",
    "\n",
    "5. \"b\" (binary mode): This mode is used to read or write binary data.\n",
    "\n",
    "6. \"t\" (text mode): This mode is used to read or write text data.\n",
    "\n",
    "7. \"+\" (read and write mode): This mode is used to read and write data to a file simultaneously.\n",
    "\n",
    "For example, to open a file in read mode, we can use the following code:\n",
    "\n",
    "\n",
    "file = open(\"example.txt\", \"r\")\n",
    "\n",
    "\n",
    "To open a file in write mode, we can use the following code:\n",
    "\n",
    "\n",
    "file = open(\"example.txt\", \"w\")\n",
    "\n",
    "\n",
    "To open a file in append mode, we can use the following code:\n",
    "\n",
    "\n",
    "file = open(\"example.txt\", \"a\")"
   ]
  },
  {
   "cell_type": "markdown",
   "id": "3a16dd3f-8aa2-4975-a188-825e9af86165",
   "metadata": {},
   "source": [
    "## Q2. Why **close()** function is used? Why is it important to close a file?"
   ]
  },
  {
   "cell_type": "markdown",
   "id": "34a4e8bb-2b2d-4cf8-affb-90e1277261c5",
   "metadata": {},
   "source": [
    "## Answer:\n",
    "The close() function is used in Python to close a file after we have finished reading from or writing to it. It is important to close a file because it frees up system resources, ensures data integrity, and allows other programs to access the file. If we do not close a file properly, it can lead to memory leaks, lost or corrupted data, and prevent other programs from accessing the file. Therefore, it is crucial to always use the close() function when working with files in Python."
   ]
  },
  {
   "cell_type": "markdown",
   "id": "765abb75-1f8b-4d28-8092-3e5d23f382a6",
   "metadata": {},
   "source": [
    "## Q3.Write a Python progrm to create a text file. Write 'I want to becomae a Data Scientist' in that file. Then close the file. Open this file and read the content of the file."
   ]
  },
  {
   "cell_type": "markdown",
   "id": "233ca337-5476-4c1e-9d70-e29914eedf4d",
   "metadata": {},
   "source": [
    "## Answer:"
   ]
  },
  {
   "cell_type": "code",
   "execution_count": 1,
   "id": "ff3e7a51",
   "metadata": {},
   "outputs": [
    {
     "name": "stdout",
     "output_type": "stream",
     "text": [
      "I want to become a Data Scientist\n"
     ]
    }
   ],
   "source": [
    "file = open(\"data_scientist.txt\", \"w\")\n",
    "file.write(\"I want to become a Data Scientist\")\n",
    "file.close()\n",
    "\n",
    "\n",
    "file = open(\"data_scientist.txt\", \"r\")\n",
    "content = file.read()\n",
    "print(content)\n",
    "file.close()"
   ]
  },
  {
   "cell_type": "markdown",
   "id": "45f8c3f2",
   "metadata": {},
   "source": [
    "## Q4. Explain the following with python code: read(), readline() and readlines()."
   ]
  },
  {
   "cell_type": "markdown",
   "id": "a204b62e-2170-48ea-9e19-bb596d426ab3",
   "metadata": {},
   "source": [
    "## Answer:\n",
    "The read(), readline(), and readlines() methods are used to read data from a file. "
   ]
  },
  {
   "cell_type": "code",
   "execution_count": 2,
   "id": "fe31881d",
   "metadata": {},
   "outputs": [],
   "source": [
    "with open('my_file.txt', 'w') as f:\n",
    "    f.write(\"Data Science Masters course is highly curated and uniquely designed according to the latest industry standards.\\n This program instills students the skills essential to knowledge discovery efforts to identify standard, novel, and truly differentiated solutions and decision-making, including skills in managing, querying, analyzing, visualizing, and extracting meaning from extremely large data sets.\\n This trending program provides students with the statistical, mathematical, and computational skills needed to meet the large-scale data science challenges of today's professional world.\\n You will learn all the stack required to work in data science, data analytics, and big data industry including cloud infrastructure and real-time industry projects.\")\n",
    "    \n",
    "f.close()"
   ]
  },
  {
   "cell_type": "markdown",
   "id": "5c0d9be7",
   "metadata": {},
   "source": [
    "### 1. read() method:\n",
    "The read() method reads the entire contents of a file and returns it as a string."
   ]
  },
  {
   "cell_type": "code",
   "execution_count": 3,
   "id": "48483faf",
   "metadata": {
    "scrolled": true
   },
   "outputs": [
    {
     "name": "stdout",
     "output_type": "stream",
     "text": [
      "Data Science Masters course is highly curated and uniquely designed according to the latest industry standards.\n",
      " This program instills students the skills essential to knowledge discovery efforts to identify standard, novel, and truly differentiated solutions and decision-making, including skills in managing, querying, analyzing, visualizing, and extracting meaning from extremely large data sets.\n",
      " This trending program provides students with the statistical, mathematical, and computational skills needed to meet the large-scale data science challenges of today's professional world.\n",
      " You will learn all the stack required to work in data science, data analytics, and big data industry including cloud infrastructure and real-time industry projects.\n"
     ]
    }
   ],
   "source": [
    "with open('my_file.txt', 'r') as f:\n",
    "    data = f.read()\n",
    "    print(data)"
   ]
  },
  {
   "cell_type": "markdown",
   "id": "bf1733b3",
   "metadata": {},
   "source": [
    "### 2. readline() method:\n",
    "The readline() method reads a single line from a file and returns it as a string. "
   ]
  },
  {
   "cell_type": "code",
   "execution_count": 4,
   "id": "1937361a",
   "metadata": {},
   "outputs": [
    {
     "name": "stdout",
     "output_type": "stream",
     "text": [
      "Data Science Masters course is highly curated and uniquely designed according to the latest industry standards.\n",
      "\n"
     ]
    }
   ],
   "source": [
    "with open('my_file.txt', 'r') as f:\n",
    "    data = f.readline()\n",
    "    print(data)"
   ]
  },
  {
   "cell_type": "markdown",
   "id": "41b9081a",
   "metadata": {},
   "source": [
    "### 3. readlines() method:\n",
    "The readlines() method reads all the lines of a file and returns them as a list of strings. Here's an example:"
   ]
  },
  {
   "cell_type": "code",
   "execution_count": 5,
   "id": "d2ea8108",
   "metadata": {},
   "outputs": [
    {
     "name": "stdout",
     "output_type": "stream",
     "text": [
      "['Data Science Masters course is highly curated and uniquely designed according to the latest industry standards.\\n', ' This program instills students the skills essential to knowledge discovery efforts to identify standard, novel, and truly differentiated solutions and decision-making, including skills in managing, querying, analyzing, visualizing, and extracting meaning from extremely large data sets.\\n', \" This trending program provides students with the statistical, mathematical, and computational skills needed to meet the large-scale data science challenges of today's professional world.\\n\", ' You will learn all the stack required to work in data science, data analytics, and big data industry including cloud infrastructure and real-time industry projects.']\n"
     ]
    }
   ],
   "source": [
    "with open('my_file.txt', 'r') as f:\n",
    "    data = f.readlines()\n",
    "    print(data)"
   ]
  },
  {
   "cell_type": "markdown",
   "id": "c53b4ee9",
   "metadata": {},
   "source": [
    "## Q5. Explain why with statement is used with open(). What is the advantage of using with statement and open() together?"
   ]
  },
  {
   "cell_type": "markdown",
   "id": "fbd24982-5299-41d7-83f1-45dc159f8139",
   "metadata": {},
   "source": [
    "## Answer:\n",
    "The with statement is used with open() to ensure that the file is properly closed after it has been used. This is important because if a file is not closed properly, it can cause data corruption or loss.\n",
    "\n",
    "The advantage of using with statement and open() together is that it automatically handles closing the file, even if an error occurs while the file is being read or written. This helps to prevent errors and ensures that the file is always closed properly, even if the program encounters an unexpected error. It also simplifies the code by eliminating the need to explicitly close the file."
   ]
  },
  {
   "cell_type": "markdown",
   "id": "20cc80b5",
   "metadata": {},
   "source": [
    "## Q6. Explain the write() and writelines() functions. Give a suitable example."
   ]
  },
  {
   "cell_type": "markdown",
   "id": "992a3590-f8d1-4236-8ff3-c505f7ae2f44",
   "metadata": {},
   "source": [
    "## Answer:\n",
    "The write() and writelines() functions are used to write data to a file in Python."
   ]
  },
  {
   "cell_type": "markdown",
   "id": "2ab20b45",
   "metadata": {},
   "source": [
    "### 1. write() function:\n",
    "The write() function is used to write a single string to a file."
   ]
  },
  {
   "cell_type": "code",
   "execution_count": 6,
   "id": "941dcc6b",
   "metadata": {},
   "outputs": [],
   "source": [
    "file = open(\"data_scientist.txt\", \"w\")\n",
    "file.write(\"\\033[1m Data Science Masters 2.O\\033[0m \\n\")\n",
    "file.close()"
   ]
  },
  {
   "cell_type": "markdown",
   "id": "2d579e50",
   "metadata": {},
   "source": [
    "### 2. writelines() function:\n",
    "The writelines() function is used to write a list of strings to a file."
   ]
  },
  {
   "cell_type": "code",
   "execution_count": 7,
   "id": "c9240f7d",
   "metadata": {},
   "outputs": [],
   "source": [
    "lines = [\"Data Science Masters course is highly curated and uniquely designed according to the latest industry standards. This program instills students the skills essential to knowledge discovery efforts to identify standard, novel, and truly differentiated solutions and decision-making, including skills in managing, querying, analyzing, visualizing, and extracting meaning from extremely large data sets. This trending program provides students with the statistical, mathematical, and computational skills needed to meet the large-scale data science challenges of today's professional world. You will learn all the stack required to work in data science, data analytics, and big data industry including cloud infrastructure and real-time industry projects.\"]\n",
    "\n",
    "with open('data_scientist.txt', 'a') as file:\n",
    "    file.writelines(lines)\n",
    "    \n",
    "file.close()"
   ]
  },
  {
   "cell_type": "code",
   "execution_count": 8,
   "id": "bba32411",
   "metadata": {},
   "outputs": [
    {
     "name": "stdout",
     "output_type": "stream",
     "text": [
      "\u001b[1m Data Science Masters 2.O\u001b[0m \n",
      "Data Science Masters course is highly curated and uniquely designed according to the latest industry standards. This program instills students the skills essential to knowledge discovery efforts to identify standard, novel, and truly differentiated solutions and decision-making, including skills in managing, querying, analyzing, visualizing, and extracting meaning from extremely large data sets. This trending program provides students with the statistical, mathematical, and computational skills needed to meet the large-scale data science challenges of today's professional world. You will learn all the stack required to work in data science, data analytics, and big data industry including cloud infrastructure and real-time industry projects.\n"
     ]
    }
   ],
   "source": [
    "with open('data_scientist.txt', 'r') as file:\n",
    "    contents = file.read()\n",
    "    print(contents)\n",
    "file.close()"
   ]
  }
 ],
 "metadata": {
  "kernelspec": {
   "display_name": "Python 3 (ipykernel)",
   "language": "python",
   "name": "python3"
  },
  "language_info": {
   "codemirror_mode": {
    "name": "ipython",
    "version": 3
   },
   "file_extension": ".py",
   "mimetype": "text/x-python",
   "name": "python",
   "nbconvert_exporter": "python",
   "pygments_lexer": "ipython3",
   "version": "3.10.9"
  }
 },
 "nbformat": 4,
 "nbformat_minor": 5
}
