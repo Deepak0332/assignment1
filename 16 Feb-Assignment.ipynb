{
 "cells": [
  {
   "cell_type": "markdown",
   "id": "2ef8ec6e",
   "metadata": {},
   "source": [
    "## Q1. What is a database? Differentiate between SQL and NoSQL databases."
   ]
  },
  {
   "cell_type": "markdown",
   "id": "c14d4a55-fe99-4441-8d47-97092a771e53",
   "metadata": {},
   "source": [
    "## Answer:\n",
    "A database is a collection of organized data that can be accessed, managed, and updated easily. It stores data in a structured format and provides a way to retrieve and manipulate that data.\n",
    "\n",
    "SQL (Structured Query Language) databases are relational databases that store data in tables with predefined relationships between them. SQL databases are highly structured and require a schema to be defined before data can be added. They are best suited for applications that require complex queries and transactions, such as financial systems.\n",
    "\n",
    "NoSQL (Not Only SQL) databases, on the other hand, are non-relational databases that store data in a more flexible format, such as key-value pairs, documents, or graphs. They do not require a predefined schema and can easily handle large amounts of unstructured data. NoSQL databases are best suited for applications that require high scalability and performance, such as social media platforms or e-commerce sites."
   ]
  },
  {
   "cell_type": "markdown",
   "id": "934f6ba4",
   "metadata": {},
   "source": [
    "## Q2. What is DDL? Explain why CREATE, DROP, ALTER, and TRUNCATE are used with an example."
   ]
  },
  {
   "cell_type": "markdown",
   "id": "1a3d2953-6aff-4e83-98d4-49670bb1da9f",
   "metadata": {},
   "source": [
    "## Answer:\n",
    "DDL stands for Data Definition Language, which is a subset of SQL that is used to define and manage the structure of a database. DDL statements are used to create, modify, and delete database objects such as tables, views, indexes, and constraints."
   ]
  },
  {
   "cell_type": "markdown",
   "id": "8ad2b30f",
   "metadata": {},
   "source": [
    "### 1. CREATE: \n",
    "This command is used to create a new database object such as a table, view, index, or stored procedure."
   ]
  },
  {
   "cell_type": "code",
   "execution_count": null,
   "id": "74c7d186",
   "metadata": {},
   "outputs": [],
   "source": [
    "CREATE TABLE students (\n",
    "  id INT PRIMARY KEY,\n",
    "  name VARCHAR(50),\n",
    "  age INT\n",
    ");"
   ]
  },
  {
   "cell_type": "markdown",
   "id": "f0dcad67",
   "metadata": {},
   "source": [
    "### 2. DROP:\n",
    "This command is used to delete an existing database object such as a table, view, index, or stored procedure."
   ]
  },
  {
   "cell_type": "code",
   "execution_count": null,
   "id": "a2f1ad58",
   "metadata": {},
   "outputs": [],
   "source": [
    "DROP TABLE students;"
   ]
  },
  {
   "cell_type": "markdown",
   "id": "b3f49883",
   "metadata": {},
   "source": [
    "### 3. ALTER: \n",
    "This command is used to modify an existing database object such as a table, view, or stored procedure. ALTER can be used to add, modify, or delete columns from a table, or change the data type of a column."
   ]
  },
  {
   "cell_type": "code",
   "execution_count": null,
   "id": "0d38628a",
   "metadata": {},
   "outputs": [],
   "source": [
    "ALTER TABLE students\n",
    "ADD COLUMN email VARCHAR(50);"
   ]
  },
  {
   "cell_type": "markdown",
   "id": "ed2ff93e",
   "metadata": {},
   "source": [
    "### 4. TRUNCATE: \n",
    "This command is used to delete all the data from an existing table, but it doesn't delete the table structure."
   ]
  },
  {
   "cell_type": "code",
   "execution_count": null,
   "id": "dfcd45bf",
   "metadata": {},
   "outputs": [],
   "source": [
    "TRUNCATE TABLE students;"
   ]
  },
  {
   "cell_type": "markdown",
   "id": "3cb2f331",
   "metadata": {},
   "source": [
    "# Q3. What is DML? Explain INSERT, UPDATE, and DELETE with an example."
   ]
  },
  {
   "cell_type": "markdown",
   "id": "364657c5",
   "metadata": {},
   "source": [
    "## Answer:\n",
    "DML stands for \"Data Manipulation Language,\" which is a subset of SQL (Structured Query Language) used to manipulate data stored in a database. DML commands are used to insert, update, and delete data from the tables in a database."
   ]
  },
  {
   "cell_type": "markdown",
   "id": "06153fef",
   "metadata": {},
   "source": [
    "### 1. INSERT : \n",
    "This command is used to insert new data into a table."
   ]
  },
  {
   "cell_type": "code",
   "execution_count": null,
   "id": "7c8a4e81",
   "metadata": {},
   "outputs": [],
   "source": [
    "INSERT INTO students (id, name, age, email) VALUES (1, 'Rahul', 24, 'Rahul123@gmail.com');"
   ]
  },
  {
   "cell_type": "markdown",
   "id": "d176c2f5",
   "metadata": {},
   "source": [
    "This command will insert a new row into the \"students\" table with the values \"1\" for the \"id\" column, \"Rahul\" for the \"name\" column, \"24\" for the \"age\" column, and \"Rahul123@gmail.com\" for the \"email\" column."
   ]
  },
  {
   "cell_type": "markdown",
   "id": "c29358d4",
   "metadata": {},
   "source": [
    "### 2. UPDATE:\n",
    "This command is used to modify existing data in a table."
   ]
  },
  {
   "cell_type": "code",
   "execution_count": null,
   "id": "13745463",
   "metadata": {},
   "outputs": [],
   "source": [
    "UPDATE students SET age = 25 WHERE id = 1;\n"
   ]
  },
  {
   "cell_type": "markdown",
   "id": "96765797",
   "metadata": {},
   "source": [
    "This command will update the age of the student with \"id\" 1 to \"25\" in the \"students\" table."
   ]
  },
  {
   "cell_type": "markdown",
   "id": "3c0692b8",
   "metadata": {},
   "source": [
    "### 3. DELETE: \n",
    "This command is used to delete data from a table."
   ]
  },
  {
   "cell_type": "code",
   "execution_count": null,
   "id": "f8a78e33",
   "metadata": {},
   "outputs": [],
   "source": [
    "DELETE FROM students WHERE id = 1;"
   ]
  },
  {
   "cell_type": "markdown",
   "id": "5bfaa90e",
   "metadata": {},
   "source": [
    "This command will delete the row with \"id\" 1 from the \"students\" table."
   ]
  },
  {
   "cell_type": "markdown",
   "id": "d3747254",
   "metadata": {},
   "source": [
    "## Q4. What is DQL? Explain SELECT with an example."
   ]
  },
  {
   "cell_type": "markdown",
   "id": "1d0efc35",
   "metadata": {},
   "source": [
    "## Answer:\n",
    "DQL stands for \"Data Query Language,\" which is a subset of SQL (Structured Query Language) used to retrieve data from a database. DQL commands are used to search, filter, and sort data from tables in a database."
   ]
  },
  {
   "cell_type": "markdown",
   "id": "c489f6f9",
   "metadata": {},
   "source": [
    "### SELECT:\n",
    "The SELECT statement is used to retrieve data from one or more tables in a database. It is one of the most commonly used SQL statements."
   ]
  },
  {
   "cell_type": "code",
   "execution_count": null,
   "id": "9d93492c",
   "metadata": {},
   "outputs": [],
   "source": [
    "SELECT * FROM employees;"
   ]
  },
  {
   "cell_type": "markdown",
   "id": "282a1388",
   "metadata": {},
   "source": [
    "This statement retrieves all the columns (indicated by the * symbol) from the employees table in a database. The semicolon at the end of the statement signifies the end of the statement."
   ]
  },
  {
   "cell_type": "code",
   "execution_count": null,
   "id": "f3798960",
   "metadata": {},
   "outputs": [],
   "source": [
    "SELECT first_name, last_name, email FROM employees;"
   ]
  },
  {
   "cell_type": "markdown",
   "id": "3f69f077",
   "metadata": {},
   "source": [
    "This statement retrieves only the first_name, last_name, and email columns from the employees table. You can also use WHERE clause to add conditions to filter data, for example:"
   ]
  },
  {
   "cell_type": "code",
   "execution_count": null,
   "id": "88639c97",
   "metadata": {},
   "outputs": [],
   "source": [
    "SELECT first_name, last_name, email FROM employees WHERE department = 'Data scientist';"
   ]
  },
  {
   "cell_type": "markdown",
   "id": "04cc1e14",
   "metadata": {},
   "source": [
    "This statement retrieves only the first_name, last_name, and email columns of employees who work in the Data scientist department."
   ]
  },
  {
   "cell_type": "markdown",
   "id": "d4af4f9e",
   "metadata": {},
   "source": [
    "## Q5. Explain Primary Key and Foreign Key."
   ]
  },
  {
   "cell_type": "markdown",
   "id": "57986b90-23f5-4868-a690-6288e20b5536",
   "metadata": {},
   "source": [
    "## Answer:\n",
    "**Primary Key:** A primary key is a field or combination of fields in a relational database table that uniquely identifies each record in the table. It is a unique identifier for a particular record in a table and ensures that each record in the table is unique and identifiable. The primary key constraint ensures that the values in the specified column(s) of a table are unique and not null. Typically, a primary key is used as the basis for other tables to reference in establishing relationships between tables.\n",
    "\n",
    "**Foreign Key:** A foreign key is a field or combination of fields in one table that refers to the primary key of another table. It establishes a link between two tables and ensures that data in related tables is consistent. The foreign key constraint specifies that the values in a particular column or set of columns in one table must match the values in the primary key column(s) of another table. This ensures that data is correctly related between the tables and maintains data integrity. The foreign key also allows for data to be easily retrieved across multiple tables that are related to each other.\n",
    "\n",
    "In summary, a primary key is used to uniquely identify each row in a table, while a foreign key is used to establish relationships between tables by referencing the primary key of another table. Primary and foreign keys are essential for maintaining data consistency and integrity in a relational database."
   ]
  },
  {
   "cell_type": "markdown",
   "id": "3b488681",
   "metadata": {},
   "source": [
    "## Q6. Write a python code to connect MySQL to python. Explain the cursor() and execute() method."
   ]
  },
  {
   "cell_type": "markdown",
   "id": "90984415",
   "metadata": {},
   "source": [
    "## Answer:"
   ]
  },
  {
   "cell_type": "code",
   "execution_count": null,
   "id": "76f4961e",
   "metadata": {},
   "outputs": [],
   "source": [
    "pip install mysql-connector-python"
   ]
  },
  {
   "cell_type": "code",
   "execution_count": null,
   "id": "801409bd",
   "metadata": {
    "scrolled": true
   },
   "outputs": [],
   "source": [
    "import mysql.connector\n",
    "\n",
    "# Connect to the database\n",
    "connection = mysql.connector.connect(\n",
    "  host=\"localhost\",\n",
    "  user=\"your_username\",\n",
    "  password=\"your_password\",\n",
    "  database=\"your_database\"\n",
    ")\n",
    "\n",
    "# Create a cursor object\n",
    "cursor = connection.cursor()\n",
    "\n",
    "# Execute SQL queries\n",
    "cursor.execute(\"SELECT * FROM your_table\")\n",
    "\n",
    "# Fetch the results\n",
    "results = cursor.fetchall()\n",
    "\n",
    "# Process the results\n",
    "for row in results:\n",
    "    print(row)\n",
    "\n",
    "# Close the cursor and connection\n",
    "cursor.close()\n",
    "connection.close()\n"
   ]
  },
  {
   "cell_type": "markdown",
   "id": "3d4a2de0",
   "metadata": {},
   "source": [
    "**cursor():** The execute() method is used to execute a SQL query on the database. It takes in a string containing the SQL query as a parameter.\n",
    "\n",
    "**execute():** The cursor() method creates a new cursor object that can be used to execute SQL queries on the database. The cursor object is used to fetch the results of the query and perform other operations on the database."
   ]
  },
  {
   "cell_type": "markdown",
   "id": "f5967f07",
   "metadata": {},
   "source": [
    "## Q7. Give the order of execution of SQL clauses in an SQL query."
   ]
  },
  {
   "cell_type": "markdown",
   "id": "6541b50c",
   "metadata": {},
   "source": [
    "## Answer:"
   ]
  },
  {
   "cell_type": "markdown",
   "id": "7bd214a3-1ed4-4ba8-bba4-e21bb15d355a",
   "metadata": {},
   "source": [
    "The order of execution of SQL clauses in an SQL query can be summarized as follows:\n",
    "\n",
    "\n",
    "1. **FROM:** This clause specifies the table or tables from which the data will be selected.\n",
    "2. **JOIN:** This clause is used to combine rows from two or more tables based on a related column between them.\n",
    "3. **WHERE:** This clause is used to filter rows based on a specified condition.\n",
    "4. **GROUP BY:** This clause is used to group the selected rows based on one or more columns.\n",
    "5. **HAVING:** This clause is used to filter groups based on a specified condition.\n",
    "6. **SELECT:** This clause is used to select the columns to include in the result set.\n",
    "7. **DISTINCT:** This clause is used to remove duplicates from the result set.\n",
    "8. **ORDER BY:** This clause is used to sort the result set based on one or more columns.\n",
    "9. **LIMIT:** This clause is used to limit the number of rows returned in the result set."
   ]
  }
 ],
 "metadata": {
  "kernelspec": {
   "display_name": "Python 3 (ipykernel)",
   "language": "python",
   "name": "python3"
  },
  "language_info": {
   "codemirror_mode": {
    "name": "ipython",
    "version": 3
   },
   "file_extension": ".py",
   "mimetype": "text/x-python",
   "name": "python",
   "nbconvert_exporter": "python",
   "pygments_lexer": "ipython3",
   "version": "3.10.9"
  }
 },
 "nbformat": 4,
 "nbformat_minor": 5
}
