{
 "cells": [
  {
   "cell_type": "markdown",
   "id": "8a71f23c-8057-4408-91b7-5fbdf755d5c1",
   "metadata": {},
   "source": [
    "## Task No. 1:\n",
    "You are writing a code for a company. The requirement of the company is that you create a Python functoin that will check whether the password entered by the user is correct or not. The function should take the password as input and return the string \"Valid Password\" if the entered password follows the below-given password guidelines else it should return \"Invalid Password\". \n",
    "\n",
    "**Note:** <br>\n",
    "1. The password should contain at least two uppercase letter and at least two lowercase letters.\n",
    "2. The password should contain at least a number and three special characters.\n",
    "3. The length of the password shoud be 10 character long."
   ]
  },
  {
   "cell_type": "code",
   "execution_count": 1,
   "id": "982ef123",
   "metadata": {},
   "outputs": [
    {
     "name": "stdout",
     "output_type": "stream",
     "text": [
      "Enter your password: ggGG2#$%dm\n",
      "Valid Password\n"
     ]
    }
   ],
   "source": [
    "def validate_Password(password):\n",
    "    \n",
    "    if len(password) != 10:\n",
    "        return \"Invalid Password\"\n",
    "    \n",
    "    upper_count, lower_count, number_count, special_count = 0, 0, 0, 0\n",
    "    \n",
    "    for char in password:\n",
    "        if char.isupper():\n",
    "            upper_count += 1\n",
    "        \n",
    "        elif char.islower():\n",
    "            lower_count += 1\n",
    "            \n",
    "        elif char.isdigit():\n",
    "            number_count += 1\n",
    "            \n",
    "        else:\n",
    "            special_count += 1\n",
    "            \n",
    "   \n",
    "    if upper_count >= 2 and lower_count >=2 and number_count >=1 and special_count >=3:\n",
    "        return \"Valid Password\"\n",
    "    \n",
    "    else:\n",
    "        return \"Invalid Password\"\n",
    "\n",
    "password = input(\"Enter your password: \")\n",
    "validity = validate_Password(password)\n",
    "print(validity)"
   ]
  },
  {
   "cell_type": "code",
   "execution_count": 2,
   "id": "ef4b4cb9",
   "metadata": {},
   "outputs": [
    {
     "name": "stdout",
     "output_type": "stream",
     "text": [
      "Enter your password: Abc123!@#$\n",
      "Invalid Password\n"
     ]
    }
   ],
   "source": [
    "password = input(\"Enter your password: \")\n",
    "validity = validate_Password(password)\n",
    "print(validity)"
   ]
  },
  {
   "cell_type": "markdown",
   "id": "01d098fb-7d0b-4837-980b-bd2763b0f368",
   "metadata": {},
   "source": [
    "## Task No. 2:\n",
    "Solve the below-given questions using at least one of the following:<br>\n",
    "1. Lambda Function\n",
    "2. Filter Function\n",
    "3. Map Function\n",
    "4. List Comprehension"
   ]
  },
  {
   "cell_type": "markdown",
   "id": "80ab99ef-2e83-492d-9164-38e67cb12681",
   "metadata": {},
   "source": [
    "### Question No. 1: \n",
    "Check if the string starts with a particular letter."
   ]
  },
  {
   "cell_type": "code",
   "execution_count": 3,
   "id": "88db625c",
   "metadata": {},
   "outputs": [
    {
     "name": "stdout",
     "output_type": "stream",
     "text": [
      "['apple']\n"
     ]
    }
   ],
   "source": [
    "string_list = [\"apple\", \"banana\", \"orange\", \"grapes\", \"kiwi\"]\n",
    "letter = \"a\"\n",
    "filtered_list = list(filter(lambda x: x.startswith(letter), string_list))\n",
    "print(filtered_list)"
   ]
  },
  {
   "cell_type": "markdown",
   "id": "bb26f594-1176-475a-986a-fd0cfe315ffb",
   "metadata": {},
   "source": [
    "### Question No. 2:\n",
    "Check if the string is numeric."
   ]
  },
  {
   "cell_type": "code",
   "execution_count": 4,
   "id": "1318953b",
   "metadata": {},
   "outputs": [
    {
     "name": "stdout",
     "output_type": "stream",
     "text": [
      "['123', '1000']\n"
     ]
    }
   ],
   "source": [
    "string_list = [\"123\", \"abc\", \"3.14\", \"1000\", \"12x34\"]\n",
    "filtered_list = list(filter(lambda x: x.isnumeric(), string_list))\n",
    "print(filtered_list)"
   ]
  },
  {
   "cell_type": "markdown",
   "id": "5fef74ee-9f0c-4906-b0a3-c2a7d07df773",
   "metadata": {},
   "source": [
    "### Question No. 3:\n",
    "Sort a list of tuples having fruit names and their quantity. <br>\n",
    "[('mango',99),('orange',80),('grapes',1000)]"
   ]
  },
  {
   "cell_type": "code",
   "execution_count": 5,
   "id": "997f3a3f",
   "metadata": {},
   "outputs": [
    {
     "name": "stdout",
     "output_type": "stream",
     "text": [
      "[('orange', 80), ('mango', 99), ('grapes', 1000)]\n"
     ]
    }
   ],
   "source": [
    "fruit_list = [(\"mango\", 99), (\"orange\", 80), (\"grapes\", 1000)]\n",
    "sorted_list = sorted(fruit_list, key=lambda x: x[1])\n",
    "print(sorted_list)"
   ]
  },
  {
   "cell_type": "markdown",
   "id": "4b8d0d50-55bd-4935-bc6f-c606112a878a",
   "metadata": {},
   "source": [
    "### Question No. 4:\n",
    "Find the squares of numbers from 1 to 10."
   ]
  },
  {
   "cell_type": "code",
   "execution_count": 6,
   "id": "84a677ae",
   "metadata": {},
   "outputs": [
    {
     "name": "stdout",
     "output_type": "stream",
     "text": [
      "[1, 4, 9, 16, 25, 36, 49, 64, 81, 100]\n"
     ]
    }
   ],
   "source": [
    "squares = [num ** 2 for num in range(1, 11)]\n",
    "print(squares)"
   ]
  },
  {
   "cell_type": "markdown",
   "id": "974269f0-5a49-44c2-b435-e02deb531b36",
   "metadata": {},
   "source": [
    "### Question No. 5:\n",
    "Find the cube root of numbers from 1 to 10."
   ]
  },
  {
   "cell_type": "code",
   "execution_count": 7,
   "id": "9245c579",
   "metadata": {},
   "outputs": [
    {
     "name": "stdout",
     "output_type": "stream",
     "text": [
      "[1.0, 1.26, 1.44, 1.59, 1.71, 1.82, 1.91, 2.0, 2.08, 2.15]\n"
     ]
    }
   ],
   "source": [
    "import math\n",
    "cube_roots = list(map(lambda x: round(math.pow(x, 1/3), 2), range(1, 11)))\n",
    "print(cube_roots)"
   ]
  },
  {
   "cell_type": "markdown",
   "id": "e23c7005-75ea-47cb-8f9c-3d1d82453b84",
   "metadata": {},
   "source": [
    "### Question No. 6:\n",
    "Check if a given number is even."
   ]
  },
  {
   "cell_type": "code",
   "execution_count": 8,
   "id": "d683caec",
   "metadata": {},
   "outputs": [
    {
     "name": "stdout",
     "output_type": "stream",
     "text": [
      "[2, 4, 6, 8, 10]\n"
     ]
    }
   ],
   "source": [
    "num_list = [1, 2, 3, 4, 5, 6, 7, 8, 9, 10]\n",
    "filtered_list = list(filter(lambda x: x % 2 == 0, num_list))\n",
    "print(filtered_list)"
   ]
  },
  {
   "cell_type": "markdown",
   "id": "102f9f92-4a93-4d84-8c75-3300c28cba5a",
   "metadata": {},
   "source": [
    "### Question No. 7:\n",
    "Filter odd numbers from the given list. <br>\n",
    "[1,2,3,4,5,6,7,8,9,10]"
   ]
  },
  {
   "cell_type": "code",
   "execution_count": 9,
   "id": "8d88db46",
   "metadata": {},
   "outputs": [
    {
     "name": "stdout",
     "output_type": "stream",
     "text": [
      "[1, 3, 5, 7, 9]\n"
     ]
    }
   ],
   "source": [
    "num_list = [1, 2, 3, 4, 5, 6, 7, 8, 9, 10]\n",
    "odd_list = [num for num in num_list if num % 2 != 0]\n",
    "print(odd_list)"
   ]
  },
  {
   "cell_type": "markdown",
   "id": "6959e83f-e57a-493f-8b6f-541d7ef908f4",
   "metadata": {},
   "source": [
    "### Question No. 8:\n",
    "Sort a list of integers into positive and negative integers lists.<br>\n",
    "[1,2,3,4,5,6,-1,-2,-3,-4,-5,0]"
   ]
  },
  {
   "cell_type": "code",
   "execution_count": 10,
   "id": "929f3be1",
   "metadata": {},
   "outputs": [
    {
     "name": "stdout",
     "output_type": "stream",
     "text": [
      "Positive Integers List: [1, 2, 3, 4, 5, 6, 0]\n",
      "Negative Integers List: [-1, -2, -3, -4, -5]\n"
     ]
    }
   ],
   "source": [
    "lst = [1,2,3,4,5,6,-1,-2,-3,-4,-5,0]\n",
    "\n",
    "positive_lst = list(filter(lambda x: x >= 0, lst))\n",
    "negative_lst = list(filter(lambda x: x < 0, lst))\n",
    "\n",
    "print(\"Positive Integers List:\", positive_lst)\n",
    "print(\"Negative Integers List:\", negative_lst)"
   ]
  }
 ],
 "metadata": {
  "kernelspec": {
   "display_name": "Python 3 (ipykernel)",
   "language": "python",
   "name": "python3"
  },
  "language_info": {
   "codemirror_mode": {
    "name": "ipython",
    "version": 3
   },
   "file_extension": ".py",
   "mimetype": "text/x-python",
   "name": "python",
   "nbconvert_exporter": "python",
   "pygments_lexer": "ipython3",
   "version": "3.10.9"
  }
 },
 "nbformat": 4,
 "nbformat_minor": 5
}
