{
 "cells": [
  {
   "cell_type": "markdown",
   "id": "356a99dc",
   "metadata": {},
   "source": [
    "## Q1. What is multithreading in python? Why is it used? Name the module used to handle threads in python."
   ]
  },
  {
   "cell_type": "markdown",
   "id": "74acb865-18ed-4df9-8ab4-cda136881df4",
   "metadata": {},
   "source": [
    "## Answer:\n",
    "Multithreading in Python refers to the ability of a program to execute multiple threads of execution simultaneously. Each thread runs independently and can perform different tasks simultaneously, which can improve the performance and efficiency of a program.\n",
    "\n",
    "Multithreading is used in Python to perform tasks that can be broken down into smaller, independent tasks that can be executed concurrently. This can include tasks such as network communication, data processing, and user interface updates.\n",
    "\n",
    "The module used to handle threads in Python is called \"threading\". "
   ]
  },
  {
   "cell_type": "markdown",
   "id": "f7e9373d-a522-482a-bdfb-dd3fea6dd512",
   "metadata": {},
   "source": [
    "## Q2. Why threading module is used? Write the use of the following function:\n",
    "1. activeCount()\n",
    "2. currentThread()\n",
    "3. enumerate()"
   ]
  },
  {
   "cell_type": "markdown",
   "id": "4c814d90-acf1-4b0b-b48a-6d96635487c5",
   "metadata": {},
   "source": [
    "## Answer:\n",
    "The threading module in Python is used to create and manage threads in a Python program. It provides a simple and convenient way to create and start threads, wait for threads to complete, and coordinate the execution of multiple threads.\n",
    "\n",
    "1. activeCount(): This function is used to return the number of currently active threads in the program. It can be useful for debugging and monitoring purposes, or to ensure that the program is not creating too many threads and causing performance issues.\n",
    "\n",
    "2. currentThread(): This function is used to return the current thread object, which represents the thread that is currently executing the function. It can be useful for obtaining information about the current thread, such as its name or ID.\n",
    "\n",
    "3. enumerate(): This function is used to return a list of all currently active thread objects in the program. It can be useful for debugging and monitoring purposes, or to iterate over all the threads in the program and perform some operation on each of them."
   ]
  },
  {
   "cell_type": "markdown",
   "id": "f8d3890a-7dcc-44e1-8e17-9d8a2359faee",
   "metadata": {},
   "source": [
    "## Q3. Explain the following functions:\n",
    "1. run()\n",
    "2. start()\n",
    "3. join()\n",
    "4. isAlive()"
   ]
  },
  {
   "cell_type": "markdown",
   "id": "5ed401d6-c60a-475f-aa95-f180172eecc9",
   "metadata": {},
   "source": [
    "## Answer:\n",
    "\n",
    "1. run(): This function is used to define the behavior ofelated to a thread. When a thread is created, we can define its behavior by subclassing the Thread class and overriding its run() method with our own custom code. When the start() method of the thread object is called, it will execute the run() method of the thread.\n",
    "\n",
    "2. start(): This function is used to start the execution of a thread by scheduling it to run on the CPU. When this method is called, the thread's run() method will be executed in a separate thread of execution.\n",
    "\n",
    "3. join(): This function is used to wait for a thread to complete its execution before proceeding with the rest of the program. When this method is called on a thread object, the calling thread will block until the target thread completes its execution.\n",
    "\n",
    "4. isAlive(): This function is used to determine if a thread is currently executing or not. It returns a boolean value indicating whether the thread is still running or has completed its execution."
   ]
  },
  {
   "cell_type": "markdown",
   "id": "420045e8-ce41-4a9e-88e3-472d763f82fc",
   "metadata": {},
   "source": [
    "## Q4. Write a Python program to create two threads. Thread one must print the list of squares and thread two must print the list of cubes."
   ]
  },
  {
   "cell_type": "code",
   "execution_count": 1,
   "id": "e7f79f53",
   "metadata": {},
   "outputs": [
    {
     "name": "stdout",
     "output_type": "stream",
     "text": [
      "[1, 4, 9, 16, 25, 36, 49, 64, 81, 100]\n",
      "[1, 8, 27, 64, 125, 216, 343, 512, 729, 1000]\n"
     ]
    }
   ],
   "source": [
    "import threading\n",
    "\n",
    "def print_squares():\n",
    "    squares = [[num ** 2 for num in range(1, 11)]]\n",
    "    for square in squares:\n",
    "        print(square)\n",
    "\n",
    "def print_cubes():\n",
    "    cubes = [[num ** 3 for num in range(1, 11)]]\n",
    "    for cube in cubes:\n",
    "        print(cube)\n",
    "\n",
    "thread1 = threading.Thread(target=print_squares)\n",
    "thread2 = threading.Thread(target=print_cubes)\n",
    "\n",
    "thread1.start()\n",
    "thread2.start()\n",
    "\n",
    "thread1.join()\n",
    "thread2.join()"
   ]
  },
  {
   "cell_type": "markdown",
   "id": "b4f57613",
   "metadata": {},
   "source": [
    "## Q5. State advantages and disadvantages of multithreading."
   ]
  },
  {
   "cell_type": "markdown",
   "id": "848991c1-2f7a-4309-a968-3fbd9f55feb7",
   "metadata": {},
   "source": [
    "### Answer:\n",
    "\n",
    "**Advantages of multithreading:**\n",
    "\n",
    "1. Improved performance: Multithreading can improve program performance by allowing multiple tasks to run concurrently. This can help reduce the overall processing time for a program, especially when there are long-running tasks that can run in parallel.\n",
    "\n",
    "2. Resource sharing: Multiple threads can share resources such as memory and I/O devices, which can help reduce the overall resource usage of a program.\n",
    "\n",
    "3. Responsiveness: Multithreading can improve the responsiveness of a program by allowing it to perform multiple tasks simultaneously. This can help prevent the program from becoming unresponsive or frozen while performing a long-running task.\n",
    "\n",
    "4. Simplified programming: Multithreading can simplify programming by allowing developers to write code that performs multiple tasks concurrently, rather than having to write complex code to manage multiple tasks sequentially.\n",
    "\n",
    "**Disadvantages of multithreading:**\n",
    "\n",
    "1. Increased complexity: Multithreading can increase the complexity of a program, as developers need to ensure that the threads are synchronized properly to avoid issues such as deadlocks and race conditions.\n",
    "\n",
    "2. Synchronization overhead: When multiple threads access shared resources, synchronization overhead can occur, which can reduce program performance.\n",
    "\n",
    "3. Debugging difficulties: Debugging multithreaded programs can be difficult, as issues such as deadlocks and race conditions can be hard to diagnose and reproduce.\n",
    "\n",
    "4. Resource contention: When multiple threads compete for the same resource, resource contention can occur, which can reduce program performance and cause issues such as livelocks."
   ]
  },
  {
   "cell_type": "markdown",
   "id": "3faf9fe1",
   "metadata": {},
   "source": [
    "## Q6. Explain deadlocks and race conditions."
   ]
  },
  {
   "cell_type": "markdown",
   "id": "3a011dbe-b3f9-448c-8b3e-814b0ed58e32",
   "metadata": {},
   "source": [
    "## Answer:\n",
    "**Deadlock:** A deadlock is a situation that occurs when two or more threads are blocked forever, waiting for each other to release resources. In other words, each thread is waiting for another thread to release a resource that it needs before it can proceed.\n",
    "\n",
    "**Race Condition:** A race condition is a situation that occurs when two or more threads access shared data and try to change it at the same time. As a result, the values of the shared data become unpredictable and may lead to incorrect behavior of the program."
   ]
  }
 ],
 "metadata": {
  "kernelspec": {
   "display_name": "Python 3 (ipykernel)",
   "language": "python",
   "name": "python3"
  },
  "language_info": {
   "codemirror_mode": {
    "name": "ipython",
    "version": 3
   },
   "file_extension": ".py",
   "mimetype": "text/x-python",
   "name": "python",
   "nbconvert_exporter": "python",
   "pygments_lexer": "ipython3",
   "version": "3.10.9"
  }
 },
 "nbformat": 4,
 "nbformat_minor": 5
}
