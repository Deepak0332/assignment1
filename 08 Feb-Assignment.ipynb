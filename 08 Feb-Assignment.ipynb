{
 "cells": [
  {
   "cell_type": "markdown",
   "id": "d10c1bcc-bd63-4a27-b6f7-542f0099b757",
   "metadata": {},
   "source": [
    "## Q1. What is Abstraction in OOPS? Explain with an example."
   ]
  },
  {
   "cell_type": "markdown",
   "id": "c0e5dfe9-f38a-4366-93fb-e183da5a0891",
   "metadata": {},
   "source": [
    "## Answer:\n",
    "Abstraction is one of the key concepts in object-oriented programming (OOP) that enables you to focus on the essential features of an object or system while hiding its implementation details. Abstraction helps to simplify the design of complex systems and makes them more manageable.\n",
    "\n",
    "A simple example of abstraction in OOP is a calculator. You may not need to know how the calculator works internally or how it performs mathematical operations; all you need is a way to input numbers and operators and get the correct result. In this case, the calculator is abstracted as an object that provides certain functions or methods that you can use to perform calculations."
   ]
  },
  {
   "cell_type": "code",
   "execution_count": 1,
   "id": "03f80ce4",
   "metadata": {},
   "outputs": [],
   "source": [
    "class Calculator:\n",
    "    def add(self, x, y):\n",
    "        return x + y\n",
    "    \n",
    "    def subtract(self, x, y):\n",
    "        return x - y\n",
    "    \n",
    "    def multiply(self, x, y):\n",
    "        return x * y\n",
    "    \n",
    "    def divide(self, x, y):\n",
    "        if y == 0:\n",
    "            raise ValueError('Cannot divide by zero')\n",
    "        return x / y\n"
   ]
  },
  {
   "cell_type": "code",
   "execution_count": 2,
   "id": "eb29b1a4",
   "metadata": {},
   "outputs": [
    {
     "name": "stdout",
     "output_type": "stream",
     "text": [
      "5\n",
      "3\n",
      "24\n",
      "2.0\n"
     ]
    }
   ],
   "source": [
    "c = Calculator()\n",
    "print(c.add(2, 3))      \n",
    "print(c.subtract(5, 2))\n",
    "print(c.multiply(4, 6)) \n",
    "print(c.divide(10, 5)) \n"
   ]
  },
  {
   "cell_type": "markdown",
   "id": "b672daf8",
   "metadata": {},
   "source": [
    "In this example, the Calculator class abstracts the essential features of a calculator, such as performing mathematical operations, while hiding the details of how those operations are implemented. You can use the methods of the Calculator class without knowing the internal workings of the calculator. This is an example of abstraction in OOP."
   ]
  },
  {
   "cell_type": "markdown",
   "id": "783ed20c-8f8c-44e3-b89f-5c33e7618afa",
   "metadata": {},
   "source": [
    "## Q2. Differentiate between Abastraction and Encapsulation. Explain with an example."
   ]
  },
  {
   "cell_type": "markdown",
   "id": "6f17d37f-5c4e-475b-a9ce-9a2bfc0abc3f",
   "metadata": {
    "tags": []
   },
   "source": [
    "## Answer:\n",
    "Abstraction and encapsulation are two important concepts in object-oriented programming (OOP), often used interchangeably. However, they have different meanings and purposes.\n",
    "\n",
    "Abstraction is the process of identifying and extracting essential features of an object or system while ignoring the details that are not necessary for the current context. It is a way of thinking about objects in terms of their properties and behaviors, without worrying about their implementation details.\n",
    "\n",
    "Encapsulation, on the other hand, is the practice of keeping the internal workings of an object hidden from the outside world, and restricting access to its internal state. It provides a way to protect an object's data from being modified by external code, ensuring that the object's state remains consistent and valid."
   ]
  },
  {
   "cell_type": "markdown",
   "id": "c561031f-687c-49e1-bc5c-48191493a44c",
   "metadata": {},
   "source": [
    "### Example of Abstraction:"
   ]
  },
  {
   "cell_type": "code",
   "execution_count": 3,
   "id": "d8ecef5f",
   "metadata": {},
   "outputs": [
    {
     "name": "stdout",
     "output_type": "stream",
     "text": [
      "Starting the car engine\n",
      "Stopping the car engine\n",
      "Starting the motorcycle engine\n",
      "Stopping the motorcycle engine\n"
     ]
    }
   ],
   "source": [
    "from abc import ABC, abstractmethod\n",
    "\n",
    "class Vehicle(ABC):\n",
    "    @abstractmethod\n",
    "    def start_engine(self):\n",
    "        pass\n",
    "\n",
    "    @abstractmethod\n",
    "    def stop_engine(self):\n",
    "        pass\n",
    "\n",
    "class Car(Vehicle):\n",
    "    def start_engine(self):\n",
    "        print(\"Starting the car engine\")\n",
    "\n",
    "    def stop_engine(self):\n",
    "        print(\"Stopping the car engine\")\n",
    "\n",
    "class Motorcycle(Vehicle):\n",
    "    def start_engine(self):\n",
    "        print(\"Starting the motorcycle engine\")\n",
    "\n",
    "    def stop_engine(self):\n",
    "        print(\"Stopping the motorcycle engine\")\n",
    "\n",
    "my_car = Car()\n",
    "my_motorcycle = Motorcycle()\n",
    "my_car.start_engine() \n",
    "my_car.stop_engine() \n",
    "my_motorcycle.start_engine() \n",
    "my_motorcycle.stop_engine() \n"
   ]
  },
  {
   "cell_type": "markdown",
   "id": "8594c2d2",
   "metadata": {},
   "source": [
    "In this example, we define an abstract base class Vehicle with two abstract methods start_engine() and stop_engine(). We then define two concrete subclasses Car and Motorcycle that inherit from Vehicle and implement their own version of the start_engine() and stop_engine() methods."
   ]
  },
  {
   "cell_type": "markdown",
   "id": "3337edcb-640f-4d12-bbc3-bb9edfd81f79",
   "metadata": {},
   "source": [
    "### Example of Encapsulation:"
   ]
  },
  {
   "cell_type": "code",
   "execution_count": 4,
   "id": "fc2072c9",
   "metadata": {
    "scrolled": true
   },
   "outputs": [
    {
     "name": "stdout",
     "output_type": "stream",
     "text": [
      "Driving a car...\n",
      "Driving a truck...\n"
     ]
    }
   ],
   "source": [
    "from abc import ABC, abstractmethod\n",
    "\n",
    "class Vehicle(ABC):\n",
    "    @abstractmethod\n",
    "    def drive(self):\n",
    "        pass\n",
    "\n",
    "class Car(Vehicle):\n",
    "    def drive(self):\n",
    "        print(\"Driving a car...\")\n",
    "\n",
    "class Truck(Vehicle):\n",
    "    def drive(self):\n",
    "        print(\"Driving a truck...\")\n",
    "\n",
    "def main():\n",
    "    car = Car()\n",
    "    truck = Truck()\n",
    "    car.drive()\n",
    "    truck.drive()\n",
    "\n",
    "if __name__ == \"__main__\":\n",
    "    main()\n"
   ]
  },
  {
   "cell_type": "markdown",
   "id": "10a60a94",
   "metadata": {},
   "source": [
    "In this example, we have an abstract base class Vehicle that defines the essential feature of any vehicle: the ability to drive. The Vehicle class defines an abstract method drive that must be implemented by any concrete subclass."
   ]
  },
  {
   "cell_type": "markdown",
   "id": "6e80e269-da10-4ddf-91d2-e4919cd4ec31",
   "metadata": {},
   "source": [
    "## Q3. What is abc module in Python? Why is it used?"
   ]
  },
  {
   "cell_type": "markdown",
   "id": "429113d9-1e49-4762-8151-2085d28ecd5d",
   "metadata": {},
   "source": [
    "## Answer:\n",
    "The abc module in Python is used to define abstract base classes, which cannot be instantiated on their own but can be subclassed by other classes. It helps to enforce a certain structure or behavior in a class hierarchy by defining a common interface that all subclasses must adhere to. This makes code more modular, easier to maintain, and less prone to errors. Overall, the abc module is a powerful tool for creating well-structured and maintainable code in Python.The abc module in Python is used to define abstract base classes, which cannot be instantiated on their own but can be subclassed by other classes. It helps to enforce a certain structure or behavior in a class hierarchy by defining a common interface that all subclasses must adhere to. This makes code more modular, easier to maintain, and less prone to errors. Overall, the abc module is a powerful tool for creating well-structured and maintainable code in Python."
   ]
  },
  {
   "cell_type": "markdown",
   "id": "86affb2e-c047-4314-a8ab-d85f662cb6b7",
   "metadata": {},
   "source": [
    "## Q4. How can we achieve data abstraction?"
   ]
  },
  {
   "cell_type": "markdown",
   "id": "888aedc0-89fd-4e5b-8683-96c3b536e09b",
   "metadata": {},
   "source": [
    "## Answer:\n",
    "Data abstraction can be achieved in Python by using classes and objects. We can define a class with private attributes and methods that are not accessible from outside the class. This way, we can hide the implementation details of the class and expose only the necessary information through public methods. By doing this, we can achieve data abstraction and encapsulation. In addition, we can also use abstract base classes from the abc module to define a common interface for a group of related classes, which helps to enforce a certain level of abstraction and modularity in our code."
   ]
  },
  {
   "cell_type": "markdown",
   "id": "2af15034-fb39-4e51-a16f-93c0508dc935",
   "metadata": {},
   "source": [
    "## Q5. Can we create an instance of an abstract class? Explain your answer."
   ]
  },
  {
   "cell_type": "markdown",
   "id": "bc86f6cf-6654-41b0-bb5a-d410a4c05fec",
   "metadata": {},
   "source": [
    "## Answer:\n",
    "No, we cannot create an instance of an abstract class in Python. Abstract classes are designed to be incomplete and cannot be instantiated directly. They are meant to be subclassed and implemented by their concrete subclasses. The purpose of an abstract class is to define a common interface or set of methods that must be implemented by its concrete subclasses. When we create an instance of a concrete subclass, it will have all the necessary methods and attributes defined in the abstract base class."
   ]
  }
 ],
 "metadata": {
  "kernelspec": {
   "display_name": "Python 3 (ipykernel)",
   "language": "python",
   "name": "python3"
  },
  "language_info": {
   "codemirror_mode": {
    "name": "ipython",
    "version": 3
   },
   "file_extension": ".py",
   "mimetype": "text/x-python",
   "name": "python",
   "nbconvert_exporter": "python",
   "pygments_lexer": "ipython3",
   "version": "3.10.9"
  }
 },
 "nbformat": 4,
 "nbformat_minor": 5
}
