{
 "cells": [
  {
   "cell_type": "markdown",
   "id": "78c47990-6425-4fcb-9c60-56ae547427b0",
   "metadata": {},
   "source": [
    "# Task No. 1:\n",
    "Create a function which will take a list as an argument and return the product of all the number after creating a flat list. <br>\n",
    "Use the below-given list as an argument for your function.\n",
    "\n",
    "lst1 = [1,2,3,5,[44,55,66,True],False,(34,56,78,89,34),{1,2,3,3,2,1},{1:34,'key2':[55,67,78,89],4:(45,22,61,34)},[56,'data science'],'Machine Learning']\n",
    "\n",
    "**Note: You must extract numeric keys and values of the dictionary also.**"
   ]
  },
  {
   "cell_type": "code",
   "execution_count": 1,
   "id": "3debf984",
   "metadata": {},
   "outputs": [
    {
     "name": "stdout",
     "output_type": "stream",
     "text": [
      "Flat list : [1, 2, 3, 4, 44, 55, 66, True, False, 34, 56, 78, 89, 34, 1, 2, 3, 1, 34, 'key2', 55, 67, 78, 89, 4, 45, 22, 61, 34, 56, 'data science', 'Machine Learning']\n",
      "\n",
      "Product is: 4134711838987085478833841242112000\n"
     ]
    }
   ],
   "source": [
    "\n",
    "def flat_List(lst):\n",
    "   \n",
    "    \n",
    "    flat_lst = []\n",
    "    \n",
    "    for item in lst:\n",
    "        \n",
    "        if isinstance(item, (int, float, str)):\n",
    "            flat_lst.append(item)\n",
    "            \n",
    "        elif isinstance(item, dict):\n",
    "            for key, value in item.items():\n",
    "                if isinstance(key, (int, float, str)):\n",
    "                    flat_lst.append(key)\n",
    "                else:\n",
    "                    flat_lst.extend(flat_List(key))\n",
    "                    \n",
    "                if isinstance(value, (int, float, str)):\n",
    "                    flat_lst.append(value)\n",
    "                else:\n",
    "                    flat_lst.extend(flat_List(value))\n",
    "            \n",
    "        else:\n",
    "            flat_lst.extend(flat_List(item))\n",
    "            \n",
    "    return flat_lst\n",
    "    \n",
    "def num_Product(flat_lst):\n",
    "    \"\"\"Function to calculate the product of all numbers in the flat list\"\"\"\n",
    "    product = 1\n",
    "    \n",
    "    for ele in flat_lst:\n",
    "        \n",
    "        if type(ele) == int or type(ele) == float:\n",
    "            product *= ele\n",
    "       \n",
    "    print(f\"\\nProduct is: {product}\")\n",
    "        \n",
    "\n",
    "\n",
    "list1 = [1,2,3,4, [44,55,66, True], False, (34,56,78,89,34), {1,2,3,3,2,1}, {1:34, \"key2\": [55, 67, 78, 89], 4: (45, 22, 61, 34)}, [56, 'data science'], 'Machine Learning']\n",
    "\n",
    "flat_lst = flat_List(list1) \n",
    "print(f\"Flat list : {flat_lst}\")\n",
    "num_Product(flat_lst)\n"
   ]
  },
  {
   "cell_type": "markdown",
   "id": "cc853ff4-7c23-4403-a95f-cfe10713a97f",
   "metadata": {},
   "source": [
    "# Task No. 2:\n",
    "Write a Python program for encrypting a message sent to you by your friend. The logic of encryption should be such that, for a the output should be z. For b, the output should by y. For c, the output should be x repectively. Also, the whitespace should be replaced with a dollar sign. Keep the punctuation marks unchanged.\n",
    "\n",
    "Input Sentence: I want to become a Data Scientist.\n",
    "\n",
    "Encrypt the above input sentence using the program you just created.\n",
    "\n",
    "**Note: Convert the given input sentence into lowercase before encrypting. The final output should be lowercase.**"
   ]
  },
  {
   "cell_type": "code",
   "execution_count": 2,
   "id": "99c75206",
   "metadata": {},
   "outputs": [
    {
     "name": "stdout",
     "output_type": "stream",
     "text": [
      "r$dzmg$gl$yvxlnv$z$wzgz$hxrvmgrhg\n"
     ]
    }
   ],
   "source": [
    "def encrypt_message(string):\n",
    "    string = string.lower()\n",
    "    trans_letters = str.maketrans('abcdefghijklmnopqrstuvwxyz','zyxwvutsrqponmlkjihgfedcba')\n",
    "    encrypted_string = string.translate(trans_letters)\n",
    "    encrypted_string = encrypted_string.replace(' ', '$')\n",
    "    return encrypted_string\n",
    "\n",
    "string = 'I want to become a Data Scientist'\n",
    "print(encrypt_message(string))"
   ]
  }
 ],
 "metadata": {
  "kernelspec": {
   "display_name": "Python 3 (ipykernel)",
   "language": "python",
   "name": "python3"
  },
  "language_info": {
   "codemirror_mode": {
    "name": "ipython",
    "version": 3
   },
   "file_extension": ".py",
   "mimetype": "text/x-python",
   "name": "python",
   "nbconvert_exporter": "python",
   "pygments_lexer": "ipython3",
   "version": "3.10.9"
  }
 },
 "nbformat": 4,
 "nbformat_minor": 5
}
