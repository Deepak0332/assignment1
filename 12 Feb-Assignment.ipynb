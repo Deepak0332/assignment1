{
 "cells": [
  {
   "cell_type": "markdown",
   "id": "d8129bac",
   "metadata": {},
   "source": [
    "# Q1. What is Exception in Python? Write a difference between Exception and Syntax Error?"
   ]
  },
  {
   "cell_type": "markdown",
   "id": "cff56087-07ab-45f8-af17-200530c4072a",
   "metadata": {
    "tags": []
   },
   "source": [
    "## Answer:\n",
    "An exception is an error that occurs during the execution of a program. When an exception occurs, the program stops executing and displays an error message.\n",
    "\n",
    "A syntax error is a type of error that occurs when the code violates the rules of the programming language. It occurs when there is a mistake in the syntax of the code. Syntax errors are detected by the compiler or interpreter during the compilation or execution of the program.\n",
    "\n",
    "The main difference between an exception and a syntax error is that a syntax error is a type of error that occurs during the compilation or interpretation of the code, while an exception is an error that occurs during the execution of the program. Syntax errors are detected by the compiler or interpreter, while exceptions are detected by the program at runtime."
   ]
  },
  {
   "cell_type": "markdown",
   "id": "e7e33370",
   "metadata": {},
   "source": [
    "# Q2. What happens if an exception is not handled? Explain with an example."
   ]
  },
  {
   "cell_type": "markdown",
   "id": "c1e9b8d7",
   "metadata": {
    "tags": []
   },
   "source": [
    "## Answer:\n",
    "If an exception is not handled, the program will terminate abruptly and display an error message. This can lead to unexpected behavior and data loss."
   ]
  },
  {
   "cell_type": "markdown",
   "id": "0f7a6dc9",
   "metadata": {},
   "source": [
    " Let's say we have a function that calculates the square root of a number using the math.sqrt() function. If the input number is negative, it will raise a ValueError exception:"
   ]
  },
  {
   "cell_type": "code",
   "execution_count": 1,
   "id": "cae10cd9",
   "metadata": {},
   "outputs": [
    {
     "ename": "ValueError",
     "evalue": "Cannot calculate square root of negative number",
     "output_type": "error",
     "traceback": [
      "\u001b[1;31m---------------------------------------------------------------------------\u001b[0m",
      "\u001b[1;31mValueError\u001b[0m                                Traceback (most recent call last)",
      "Cell \u001b[1;32mIn[1], line 9\u001b[0m\n\u001b[0;32m      6\u001b[0m     result \u001b[38;5;241m=\u001b[39m math\u001b[38;5;241m.\u001b[39msqrt(num)\n\u001b[0;32m      7\u001b[0m     \u001b[38;5;28;01mreturn\u001b[39;00m result\n\u001b[1;32m----> 9\u001b[0m result \u001b[38;5;241m=\u001b[39m \u001b[43mcalculate_sqrt\u001b[49m\u001b[43m(\u001b[49m\u001b[38;5;241;43m-\u001b[39;49m\u001b[38;5;241;43m1\u001b[39;49m\u001b[43m)\u001b[49m\n",
      "Cell \u001b[1;32mIn[1], line 5\u001b[0m, in \u001b[0;36mcalculate_sqrt\u001b[1;34m(num)\u001b[0m\n\u001b[0;32m      3\u001b[0m \u001b[38;5;28;01mdef\u001b[39;00m \u001b[38;5;21mcalculate_sqrt\u001b[39m(num):\n\u001b[0;32m      4\u001b[0m     \u001b[38;5;28;01mif\u001b[39;00m num \u001b[38;5;241m<\u001b[39m \u001b[38;5;241m0\u001b[39m:\n\u001b[1;32m----> 5\u001b[0m         \u001b[38;5;28;01mraise\u001b[39;00m \u001b[38;5;167;01mValueError\u001b[39;00m(\u001b[38;5;124m\"\u001b[39m\u001b[38;5;124mCannot calculate square root of negative number\u001b[39m\u001b[38;5;124m\"\u001b[39m)\n\u001b[0;32m      6\u001b[0m     result \u001b[38;5;241m=\u001b[39m math\u001b[38;5;241m.\u001b[39msqrt(num)\n\u001b[0;32m      7\u001b[0m     \u001b[38;5;28;01mreturn\u001b[39;00m result\n",
      "\u001b[1;31mValueError\u001b[0m: Cannot calculate square root of negative number"
     ]
    }
   ],
   "source": [
    "import math\n",
    "\n",
    "def calculate_sqrt(num):\n",
    "    if num < 0:\n",
    "        raise ValueError(\"Cannot calculate square root of negative number\")\n",
    "    result = math.sqrt(num)\n",
    "    return result\n",
    "\n",
    "result = calculate_sqrt(-1)\n"
   ]
  },
  {
   "cell_type": "markdown",
   "id": "c8aee64b",
   "metadata": {},
   "source": [
    "In this case, the exception was not handled, and it caused the program to crash with a runtime error. To prevent this, we need to handle the exception using a try-except block:"
   ]
  },
  {
   "cell_type": "code",
   "execution_count": 2,
   "id": "56177d7c",
   "metadata": {},
   "outputs": [
    {
     "name": "stdout",
     "output_type": "stream",
     "text": [
      "Error: Cannot calculate square root of negative number\n"
     ]
    }
   ],
   "source": [
    "try:\n",
    "    result = calculate_sqrt(-1)\n",
    "except ValueError:\n",
    "    print(\"Error: Cannot calculate square root of negative number\")"
   ]
  },
  {
   "cell_type": "markdown",
   "id": "071887ff",
   "metadata": {},
   "source": [
    "By handling the exception, we can gracefully handle the error and prevent the program from crashing."
   ]
  },
  {
   "cell_type": "markdown",
   "id": "c0b4d01f",
   "metadata": {},
   "source": [
    "# Q3. Which Python statements are used to catch and handle exceptions? Explain with an example."
   ]
  },
  {
   "cell_type": "markdown",
   "id": "713b8c91",
   "metadata": {
    "tags": []
   },
   "source": [
    "## Answer:\n",
    "The try and except statements are used to catch and handle exceptions in Python."
   ]
  },
  {
   "cell_type": "code",
   "execution_count": null,
   "id": "60029a90",
   "metadata": {},
   "outputs": [],
   "source": [
    "try:\n",
    "    # Code that might raise an exception\n",
    "except ExceptionType:\n",
    "    # Code to handle the exception"
   ]
  },
  {
   "cell_type": "markdown",
   "id": "62d482a6",
   "metadata": {},
   "source": [
    "In the above code, you put the code that might raise an exception in the try block. If an exception is raised, the program immediately jumps to the except block. The except block then handles the exception, based on its type."
   ]
  },
  {
   "cell_type": "markdown",
   "id": "448a3074",
   "metadata": {},
   "source": [
    "### Example"
   ]
  },
  {
   "cell_type": "code",
   "execution_count": 3,
   "id": "309c762a",
   "metadata": {},
   "outputs": [
    {
     "name": "stdout",
     "output_type": "stream",
     "text": [
      "Error: division by zero\n"
     ]
    }
   ],
   "source": [
    "try:\n",
    "    x = 1 / 0\n",
    "except ZeroDivisionError:\n",
    "    print(\"Error: division by zero\")\n"
   ]
  },
  {
   "cell_type": "markdown",
   "id": "2a384a55",
   "metadata": {},
   "source": [
    "In the above program, we attempt to divide 1 by 0. This will raise a ZeroDivisionError. We catch this exception using the except block and print an error message."
   ]
  },
  {
   "cell_type": "markdown",
   "id": "ad8678eb-160f-4c78-9379-8d767d34495b",
   "metadata": {},
   "source": [
    "# Q4. Explain the following with examples:\n",
    "1. try and else\n",
    "2. finally\n",
    "3. raise"
   ]
  },
  {
   "cell_type": "markdown",
   "id": "e1f69455",
   "metadata": {
    "tags": []
   },
   "source": [
    "## Answer:"
   ]
  },
  {
   "cell_type": "markdown",
   "id": "187c29a0",
   "metadata": {},
   "source": [
    "### 1. try and else\n",
    "\n",
    "   The else block is executed if no exception is raised in the try block.\n"
   ]
  },
  {
   "cell_type": "code",
   "execution_count": 4,
   "id": "2991ed9f",
   "metadata": {},
   "outputs": [
    {
     "name": "stdout",
     "output_type": "stream",
     "text": [
      "Result is: 5.0\n"
     ]
    }
   ],
   "source": [
    "try:\n",
    "    x = 10 / 2\n",
    "except ZeroDivisionError:\n",
    "    print(\"Cannot divide by zero!\")\n",
    "else:\n",
    "    print(\"Result is:\", x)"
   ]
  },
  {
   "cell_type": "markdown",
   "id": "8e39ae18",
   "metadata": {},
   "source": [
    "In the above code, we try to divide 10 by 2. Since this is a valid operation, no exception is raised and the else block is executed. "
   ]
  },
  {
   "cell_type": "markdown",
   "id": "fb3176cb",
   "metadata": {},
   "source": [
    "### 2. finally\n",
    "\n",
    "The finally block is always executed, regardless of whether an exception is raised or not."
   ]
  },
  {
   "cell_type": "code",
   "execution_count": 5,
   "id": "6b8d68a5",
   "metadata": {},
   "outputs": [
    {
     "name": "stdout",
     "output_type": "stream",
     "text": [
      "Cannot divide by zero!\n",
      "This block is always executed.\n"
     ]
    }
   ],
   "source": [
    "try:\n",
    "    x = 10 / 0\n",
    "except ZeroDivisionError:\n",
    "    print(\"Cannot divide by zero!\")\n",
    "finally:\n",
    "    print(\"This block is always executed.\")"
   ]
  },
  {
   "cell_type": "markdown",
   "id": "0ff6b07b",
   "metadata": {},
   "source": [
    "In the above code, we try to divide 10 by 0. Since this is an invalid operation, a ZeroDivisionError is raised and the program jumps to the except block. However, regardless of the exception, the finally block is always executed."
   ]
  },
  {
   "cell_type": "markdown",
   "id": "2a4f3a48",
   "metadata": {},
   "source": [
    "### 3. raise\n",
    "The raise keyword is used to explicitly raise an exception. "
   ]
  },
  {
   "cell_type": "code",
   "execution_count": 6,
   "id": "9a4a693f",
   "metadata": {},
   "outputs": [
    {
     "ename": "ValueError",
     "evalue": "Value of x is too high!",
     "output_type": "error",
     "traceback": [
      "\u001b[1;31m---------------------------------------------------------------------------\u001b[0m",
      "\u001b[1;31mValueError\u001b[0m                                Traceback (most recent call last)",
      "Cell \u001b[1;32mIn[6], line 3\u001b[0m\n\u001b[0;32m      1\u001b[0m x \u001b[38;5;241m=\u001b[39m \u001b[38;5;241m10\u001b[39m\n\u001b[0;32m      2\u001b[0m \u001b[38;5;28;01mif\u001b[39;00m x \u001b[38;5;241m>\u001b[39m \u001b[38;5;241m5\u001b[39m:\n\u001b[1;32m----> 3\u001b[0m     \u001b[38;5;28;01mraise\u001b[39;00m \u001b[38;5;167;01mValueError\u001b[39;00m(\u001b[38;5;124m\"\u001b[39m\u001b[38;5;124mValue of x is too high!\u001b[39m\u001b[38;5;124m\"\u001b[39m)\n",
      "\u001b[1;31mValueError\u001b[0m: Value of x is too high!"
     ]
    }
   ],
   "source": [
    "x = 10\n",
    "if x > 5:\n",
    "    raise ValueError(\"Value of x is too high!\")"
   ]
  },
  {
   "cell_type": "markdown",
   "id": "285209f7",
   "metadata": {},
   "source": [
    "In the above code, we check if the value of x is greater than 5. If it is, we explicitly raise a ValueError with the message \"Value of x is too high!\". If this code is executed, a ValueError will be raised with the given message."
   ]
  },
  {
   "cell_type": "markdown",
   "id": "6a10299a",
   "metadata": {},
   "source": [
    "# Q5. What are custom exceptions in Python? Why do we need Custom Exceptions? Explain with an example"
   ]
  },
  {
   "cell_type": "markdown",
   "id": "787d026c",
   "metadata": {
    "tags": []
   },
   "source": [
    "## Answer:\n",
    "\n",
    "In Python, an exception is an error that occurs during the execution of a program. Python provides a set of built-in exceptions like ValueError, TypeError, IndexError, etc. that are raised in response to specific errors. However, sometimes we may need to create our own exceptions, which are called custom exceptions.\n",
    "\n",
    "Custom exceptions are used when we want to raise an exception that is specific to our program or application. They allow us to create meaningful error messages that can help us understand and debug our code more easily.\n",
    "\n",
    "We need custom exceptions in Python for several reasons, such as:\n",
    "\n",
    "To provide a better understanding of the cause of the exception.\n",
    "To create an exception that is specific to our program.\n",
    "To handle exceptional cases that are not covered by the built-in exceptions.\n",
    "\n",
    "Here's an example of a custom exception in Python:"
   ]
  },
  {
   "cell_type": "code",
   "execution_count": 7,
   "id": "ce4df1f2",
   "metadata": {},
   "outputs": [
    {
     "name": "stdout",
     "output_type": "stream",
     "text": [
      "Cannot divide by zero\n"
     ]
    }
   ],
   "source": [
    "class InvalidInputError(Exception):\n",
    "    pass\n",
    "\n",
    "def divide(num1, num2):\n",
    "    if num2 == 0:\n",
    "        raise InvalidInputError(\"Cannot divide by zero\")\n",
    "    else:\n",
    "        return num1 / num2\n",
    "\n",
    "try:\n",
    "    result = divide(10, 0)\n",
    "except InvalidInputError as e:\n",
    "    print(e)"
   ]
  },
  {
   "cell_type": "markdown",
   "id": "654a1d5f",
   "metadata": {},
   "source": [
    "In the above example, we have created a custom exception called InvalidInputError that is raised when the second argument of the divide function is zero. If the exception is raised, we will get an error message that says \"Cannot divide by zero\". We then catch the exception using a try-except block and print the error message."
   ]
  },
  {
   "cell_type": "markdown",
   "id": "877fb77f",
   "metadata": {},
   "source": [
    "# Q6. Create a Custom Exception class. Use this class to handle an exception."
   ]
  },
  {
   "cell_type": "markdown",
   "id": "ceaa7f58",
   "metadata": {
    "tags": []
   },
   "source": [
    "## Answer:"
   ]
  },
  {
   "cell_type": "code",
   "execution_count": 8,
   "id": "ddeb462d",
   "metadata": {},
   "outputs": [
    {
     "name": "stdout",
     "output_type": "stream",
     "text": [
      "Enter a number: -45\n",
      "CustomException occurred:  Number must be positive\n"
     ]
    }
   ],
   "source": [
    "class CustomException(Exception):\n",
    "    def __init__(self, message):\n",
    "        super().__init__(message)\n",
    "        self.message = message\n",
    "\n",
    "try:\n",
    "    x = int(input(\"Enter a number: \"))\n",
    "    if x < 0:\n",
    "        raise CustomException(\"Number must be positive\")\n",
    "except CustomException as e:\n",
    "    print(\"CustomException occurred: \", e.message)"
   ]
  }
 ],
 "metadata": {
  "kernelspec": {
   "display_name": "Python 3 (ipykernel)",
   "language": "python",
   "name": "python3"
  },
  "language_info": {
   "codemirror_mode": {
    "name": "ipython",
    "version": 3
   },
   "file_extension": ".py",
   "mimetype": "text/x-python",
   "name": "python",
   "nbconvert_exporter": "python",
   "pygments_lexer": "ipython3",
   "version": "3.10.9"
  }
 },
 "nbformat": 4,
 "nbformat_minor": 5
}
